{
 "cells": [
  {
   "cell_type": "code",
   "execution_count": 2,
   "id": "0757e300-97d2-4f20-8cd5-bc7e209e0296",
   "metadata": {},
   "outputs": [
    {
     "name": "stdout",
     "output_type": "stream",
     "text": [
      "76\n"
     ]
    }
   ],
   "source": [
    "nb=52\n",
    "mb=24\n",
    "addit=nb+mb\n",
    "print(addit)"
   ]
  },
  {
   "cell_type": "code",
   "execution_count": 5,
   "id": "98dd6b8c-7169-40c5-ae6c-fe2a251b2af0",
   "metadata": {},
   "outputs": [
    {
     "name": "stdout",
     "output_type": "stream",
     "text": [
      "65\n"
     ]
    }
   ],
   "source": [
    "nbro=65\n",
    "print(nbro)"
   ]
  },
  {
   "cell_type": "code",
   "execution_count": 6,
   "id": "741f3419-4776-4d4b-b66b-0613197650c4",
   "metadata": {},
   "outputs": [
    {
     "data": {
      "text/plain": [
       "True"
      ]
     },
     "execution_count": 6,
     "metadata": {},
     "output_type": "execute_result"
    }
   ],
   "source": [
    "nbro==65"
   ]
  },
  {
   "cell_type": "code",
   "execution_count": 7,
   "id": "ba9bb468-12e6-499e-852c-fdce5a955109",
   "metadata": {},
   "outputs": [
    {
     "name": "stdout",
     "output_type": "stream",
     "text": [
      "2\n"
     ]
    }
   ],
   "source": [
    "p_enti=nb//mb\n",
    "print(p_enti)\n"
   ]
  },
  {
   "cell_type": "code",
   "execution_count": 11,
   "id": "9d4c4122-8402-493c-92e8-5c0c947c6b5c",
   "metadata": {},
   "outputs": [
    {
     "data": {
      "text/plain": [
       "5"
      ]
     },
     "execution_count": 11,
     "metadata": {},
     "output_type": "execute_result"
    }
   ],
   "source": [
    "som= lambda nd,md:nd+md\n",
    "som(2,3)"
   ]
  },
  {
   "cell_type": "code",
   "execution_count": 13,
   "id": "df978553-4994-4951-b4f2-3066ca8cab75",
   "metadata": {},
   "outputs": [
    {
     "name": "stdout",
     "output_type": "stream",
     "text": [
      "1\n",
      "3\n",
      "6\n",
      "10\n",
      "15\n",
      "21\n"
     ]
    }
   ],
   "source": [
    "som=0\n",
    "i=1\n",
    "while i<=6:\n",
    "    som +=i\n",
    "    i +=1\n",
    "    print(som)"
   ]
  },
  {
   "cell_type": "code",
   "execution_count": 21,
   "id": "7af78806-b5bc-4676-8ce9-6467e473bec4",
   "metadata": {},
   "outputs": [
    {
     "name": "stdout",
     "output_type": "stream",
     "text": [
      "2\n",
      "3\n",
      "4\n",
      "5\n",
      "6\n",
      "7\n"
     ]
    }
   ],
   "source": [
    "som=1\n",
    "while som<=6:\n",
    "    som +=1\n",
    "    print(som)"
   ]
  },
  {
   "cell_type": "code",
   "execution_count": null,
   "id": "1c54106f-b849-43be-b826-fca3ccea0b2c",
   "metadata": {},
   "outputs": [],
   "source": []
  },
  {
   "cell_type": "code",
   "execution_count": null,
   "id": "96c1f9e8-cd36-4978-9688-9b235a93812a",
   "metadata": {},
   "outputs": [],
   "source": []
  }
 ],
 "metadata": {
  "kernelspec": {
   "display_name": "Python 3 (ipykernel)",
   "language": "python",
   "name": "python3"
  },
  "language_info": {
   "codemirror_mode": {
    "name": "ipython",
    "version": 3
   },
   "file_extension": ".py",
   "mimetype": "text/x-python",
   "name": "python",
   "nbconvert_exporter": "python",
   "pygments_lexer": "ipython3",
   "version": "3.12.7"
  }
 },
 "nbformat": 4,
 "nbformat_minor": 5
}
